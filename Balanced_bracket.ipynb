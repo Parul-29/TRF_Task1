{
 "cells": [
  {
   "cell_type": "code",
   "execution_count": 3,
   "id": "67f4e907",
   "metadata": {},
   "outputs": [
    {
     "name": "stdout",
     "output_type": "stream",
     "text": [
      "Balanced\n"
     ]
    }
   ],
   "source": [
    "def BalancedBracket(exp):\n",
    "    stack = []\n",
    "  \n",
    "    for char in exp:\n",
    "        if char in [\"(\", \"{\", \"[\"]:\n",
    "  \n",
    "            \n",
    "            stack.append(char)\n",
    "        else:\n",
    "  \n",
    "            \n",
    "            if not stack:\n",
    "                return False\n",
    "            current_char = stack.pop()\n",
    "            if current_char == '(':\n",
    "                if char != \")\":\n",
    "                    return False\n",
    "            if current_char == '{':\n",
    "                if char != \"}\":\n",
    "                    return False\n",
    "            if current_char == '[':\n",
    "                if char != \"]\":\n",
    "                    return False\n",
    "  \n",
    "   \n",
    "    if stack:\n",
    "        return False\n",
    "    return True\n",
    "  \n",
    "  \n",
    "\n",
    "if __name__ == \"__main__\":\n",
    "    exp = \"{()}[]{{[[{{}}]]}}()()(())\"\n",
    "  \n",
    "    \n",
    "    if BalancedBracket(exp):\n",
    "        print(\"Balanced\")\n",
    "    else:\n",
    "        print(\"Not Balanced\")"
   ]
  }
 ],
 "metadata": {
  "kernelspec": {
   "display_name": "Python 3 (ipykernel)",
   "language": "python",
   "name": "python3"
  },
  "language_info": {
   "codemirror_mode": {
    "name": "ipython",
    "version": 3
   },
   "file_extension": ".py",
   "mimetype": "text/x-python",
   "name": "python",
   "nbconvert_exporter": "python",
   "pygments_lexer": "ipython3",
   "version": "3.9.12"
  }
 },
 "nbformat": 4,
 "nbformat_minor": 5
}
